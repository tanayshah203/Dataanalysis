{
 "cells": [
  {
   "cell_type": "markdown",
   "metadata": {},
   "source": [
    "# Vehicle Loan Prediction Machine Learning Model\n",
    "\n",
    "# Chapter 7 - Random Forest\n",
    "\n",
    "### Recap and Load\n",
    "- As always, let's begin by importing our libraries and loading the data\n",
    "- Notice that we are importing RandomForestClassifier from sklearn.ensemble\n",
    "\n",
    "*Throughout this chapter you may see slightly different results to those on the demo videos. The outputs vary due to the random nature of the random forest algorithm but they should be similar to those in the videos*\n",
    "\n",
    "*Some of the models we will build here are a bit more complex, if you are running into memory related issues try and free up memory by closing down any programs that you do not need to complete the chapter*\n"
   ]
  },
  {
   "cell_type": "code",
   "execution_count": null,
   "metadata": {},
   "outputs": [],
   "source": [
    "import pandas as pd\n",
    "import matplotlib.pyplot as plt\n",
    "import numpy as np\n",
    "import seaborn as sns\n",
    "from sklearn.ensemble import RandomForestClassifier\n",
    "from sklearn.model_selection import train_test_split\n",
    "from sklearn.metrics import confusion_matrix, f1_score, accuracy_score, recall_score, roc_curve, auc, precision_score, plot_confusion_matrix"
   ]
  },
  {
   "cell_type": "code",
   "execution_count": null,
   "metadata": {},
   "outputs": [],
   "source": [
    "loan_df = pd.read_csv('../data/vehicle_loans_feat.csv', index_col='UNIQUEID')"
   ]
  },
  {
   "cell_type": "markdown",
   "metadata": {},
   "source": [
    "Just like we did for Logistic Regression let's convert our categorical variables to the 'category' data type"
   ]
  },
  {
   "cell_type": "code",
   "execution_count": null,
   "metadata": {},
   "outputs": [],
   "source": [
    "category_cols = ['MANUFACTURER_ID', 'STATE_ID', 'DISBURSAL_MONTH', 'DISBURSED_CAT', 'PERFORM_CNS_SCORE_DESCRIPTION', 'EMPLOYMENT_TYPE']\n",
    "loan_df[category_cols] = loan_df[category_cols].astype('category')"
   ]
  },
  {
   "cell_type": "markdown",
   "metadata": {},
   "source": [
    "Now we can bring the plot_roc_curve and eval_model functions we defined in chapter 6"
   ]
  },
  {
   "cell_type": "code",
   "execution_count": null,
   "metadata": {},
   "outputs": [],
   "source": [
    "def plot_roc_curve(fpr, tpr, roc_auc):\n",
    "    plt.title('Receiver Operating Characteristic')\n",
    "    plt.plot(fpr, tpr, 'b', label = 'AUC = %0.2f' % roc_auc)\n",
    "    plt.legend(loc = 'lower right')\n",
    "    plt.plot([0, 1], [0, 1],'r--')\n",
    "    plt.xlim([0, 1])\n",
    "    plt.ylim([0, 1])\n",
    "    plt.ylabel('True Positive Rate')\n",
    "    plt.xlabel('False Positive Rate')\n",
    "    plt.show()"
   ]
  },
  {
   "cell_type": "code",
   "execution_count": null,
   "metadata": {},
   "outputs": [],
   "source": [
    "def eval_model(model, x_test, y_test):\n",
    "    preds = model.predict(x_test)\n",
    "    probs = model.predict_proba(x_test)\n",
    "\n",
    "    conf_mat = confusion_matrix(y_test, preds)\n",
    "    accuracy = accuracy_score(y_test, preds)\n",
    "    recall = recall_score(y_test, preds)\n",
    "    precision = precision_score(y_test, preds)\n",
    "    f1 = f1_score(y_test, preds)\n",
    "\n",
    "    plot_confusion_matrix(model, x_test, y_test)\n",
    "    plt.show()\n",
    "\n",
    "    #print(conf_mat)\n",
    "    print(\"\\n\")\n",
    "    print(\"Accuracy: \", accuracy)\n",
    "    print(\"Precision: \", precision)\n",
    "    print(\"Recall: \", recall)\n",
    "    print(\"F1: \", f1)\n",
    "\n",
    "    #Show ROC Curve \n",
    "    fpr, tpr, threshold = roc_curve(y_test, probs[:,1], pos_label=1)\n",
    "    roc_auc = auc(fpr, tpr)\n",
    "    print(\"AUC: \", roc_auc)\n",
    "\n",
    "    plot_roc_curve(fpr, tpr, roc_auc)\n",
    "\n",
    "    results_df = pd.DataFrame()\n",
    "    results_df['true_class'] = y_test\n",
    "    results_df['predicted_class'] = list(preds)\n",
    "    results_df['default_prob'] = probs[:, 1]\n",
    "\n",
    "    #plot the distribution of probabilities for the estimated classes \n",
    "    sns.distplot(results_df[results_df['true_class'] == 0]['default_prob'], label=\"No Default\", hist=False)\n",
    "    sns.distplot(results_df[results_df['true_class'] == 1]['default_prob'], label=\"Default\", hist=False)\n",
    "    plt.title('Distribution of Probabilities for Estimated Classes')\n",
    "    plt.legend(loc='best')\n",
    "    plt.show()\n",
    "    \n",
    "    #see the true class versus predicted class as a percentage\n",
    "    print(results_df.groupby('true_class')['predicted_class'].value_counts(normalize=True))"
   ]
  },
  {
   "cell_type": "markdown",
   "metadata": {},
   "source": [
    "\n",
    "## Lesson 1 - Building The Forest\n",
    "\n",
    "In this lesson, we will use the [RandomForestClassifier](https://scikit-learn.org/stable/modules/generated/sklearn.ensemble.RandomForestClassifier.html) from sklearn to build a Random Forest model for our data\n"
   ]
  },
  {
   "cell_type": "markdown",
   "metadata": {},
   "source": [
    "### EXERCISE \n",
    "\n",
    "- We seem to be duplicating the code for creating training/test sets and dummy variables \n",
    "- Fill in the function definition below to take in a data frame, create dummy variables and split the data into train/test sets \n",
    "- The return statement has been filled out for you"
   ]
  },
  {
   "cell_type": "markdown",
   "metadata": {},
   "source": [
    "### SOLUTION"
   ]
  },
  {
   "cell_type": "code",
   "execution_count": null,
   "metadata": {},
   "outputs": [],
   "source": [
    "def encode_and_split(loan_df):\n",
    "    loan_data_dumm = pd.get_dummies(loan_df, prefix_sep='_', drop_first=True)\n",
    "\n",
    "    x = loan_data_dumm.drop(['LOAN_DEFAULT'], axis=1)\n",
    "    y = loan_data_dumm['LOAN_DEFAULT']\n",
    "\n",
    "    x_train, x_test, y_train, y_test = train_test_split(x, y, test_size=0.2, random_state=42)\n",
    "\n",
    "    return x_train, x_test, y_train, y_test"
   ]
  },
  {
   "cell_type": "markdown",
   "metadata": {},
   "source": [
    "Now let's test our new function and create a training and test set for RandomForest, this time using the full set of features "
   ]
  },
  {
   "cell_type": "code",
   "execution_count": null,
   "metadata": {},
   "outputs": [],
   "source": [
    "x_train, x_test, y_train, y_test = encode_and_split(loan_df)"
   ]
  },
  {
   "cell_type": "code",
   "execution_count": null,
   "metadata": {},
   "outputs": [],
   "source": [
    "print(\"Training Features Shape\", x_train.shape)\n",
    "print(\"Training Label Rows\", y_train.count())"
   ]
  },
  {
   "cell_type": "code",
   "execution_count": null,
   "metadata": {},
   "outputs": [],
   "source": [
    "print(\"Testing Features Shape\", x_test.shape)\n",
    "print(\"Testing Label Rows\", y_test.count())"
   ]
  },
  {
   "cell_type": "code",
   "execution_count": null,
   "metadata": {},
   "outputs": [],
   "source": [
    "print(y_train.value_counts(normalize=True))\n",
    "print(y_test.value_counts(normalize=True))"
   ]
  },
  {
   "cell_type": "markdown",
   "metadata": {},
   "source": [
    "Ok great, looks like we have a train and test set with the class distribution we want\n",
    "\n",
    "### EXERCISE \n",
    "\n",
    "- Use [RandomForestClassifier](https://scikit-learn.org/stable/modules/generated/sklearn.ensemble.RandomForestClassifier.html) to train and evaluate a Random Forest Model\n",
    "- HINT: The model can be trained using the [fit](https://scikit-learn.org/stable/modules/generated/sklearn.ensemble.RandomForestClassifier.html#sklearn.ensemble.RandomForestClassifier.fit) function\n",
    "\n",
    "### SOLUTION"
   ]
  },
  {
   "cell_type": "code",
   "execution_count": null,
   "metadata": {},
   "outputs": [],
   "source": [
    "rfc_model = RandomForestClassifier()\n",
    "rfc_model.fit(x_train, y_train)\n",
    "\n",
    "eval_model(rfc_model, x_test, y_test)"
   ]
  },
  {
   "cell_type": "markdown",
   "metadata": {},
   "source": [
    "Let's take a minute to interpret these results \n",
    "\n",
    "### Accuracy \n",
    "\n",
    "- ~78% similar to the simple logistic regression model we built already\n",
    "\n",
    "### Precision \n",
    "\n",
    "- 39% better than simple logistic Regression which had ~33% \n",
    "- More of the instances we classified as defaults actually were defaults \n",
    "- However, most of the instances we classify as defaults are actually not defaults\n",
    "\n",
    "### Recall \n",
    "\n",
    "- Recall has increased dramatically, from 0.03% to 4.5%!\n",
    "- Random Forest picked up a lot more of the actual positive cases\n",
    "- It still missed most of them\n",
    "\n",
    "### F1\n",
    "\n",
    "- The F1 score has also increased dramatically from 0.0006 to ~0.08! \n",
    "- There is a better balance between Precision and Recall for Random Forest\n",
    "- Although this is still generally poor\n",
    "\n",
    "### AUC \n",
    "\n",
    "- The area under the roc curve has increased very slightly\n",
    "\n",
    "### Probability Distributions \n",
    "\n",
    "- Plot shows bad class separation \n",
    "- Majority of cases unlikely to be classified as defaults \n",
    "\n",
    "Generally the random forest is better than Logistic Regression but it is still not doing a good job"
   ]
  },
  {
   "cell_type": "markdown",
   "metadata": {},
   "source": []
  },
  {
   "cell_type": "markdown",
   "metadata": {},
   "source": [
    "## Lesson 2 - Overfitting\n",
    "\n",
    "A model is said to be overfitted if it performs very well on training data but does not generalize well to unseen test data\n",
    "\n",
    "We can look at evaluate our model's performance on the training data to investigate overfitting"
   ]
  },
  {
   "cell_type": "code",
   "execution_count": null,
   "metadata": {},
   "outputs": [],
   "source": [
    "eval_model(rfc_model, x_train, y_train)"
   ]
  },
  {
   "cell_type": "markdown",
   "metadata": {},
   "source": [
    "Wow! Pretty clear evidence that our random forest is overfitting, it has nearly perfect results on the training data and poor results on the test data"
   ]
  },
  {
   "cell_type": "markdown",
   "metadata": {},
   "source": [
    "## Lesson 3 - Hyperparameters "
   ]
  },
  {
   "cell_type": "markdown",
   "metadata": {},
   "source": [
    "Classification performance of random forest can be heavily influenced by its hyperparameters\n",
    "\n",
    "### Hyperparameter Tuning \n",
    "\n",
    "- The process of selecting optimal hyperparameters \n",
    "- Can be tricky and time-consuming, many automated methods exists for finding the parameters that yield the best classification results \n",
    "- Out of scope of this course but if you are interested look at [GridSearchCV](https://scikit-learn.org/stable/modules/generated/sklearn.model_selection.GridSearchCV.html)\n",
    "\n",
    "### Number of Trees\n",
    "- How big is the forest?\n",
    "- Typically increasing the number of trees increases model performance up to a certain point\n",
    "- Too many trees can increase the computational cost and does little to benefit classification performance\n",
    "- set through the n_estimators property\n",
    "\n",
    "### Maximum Depth\n",
    "- The longest path between a tree root node and its deepest leaf node\n",
    "- exposed through max_depth parameter which defaults to None, meaning the max depth is not limited\n",
    "- limiting the depth of the trees can be used to reduce overfitting\n",
    "\n",
    "\n",
    " \n",
    "\n"
   ]
  },
  {
   "cell_type": "markdown",
   "metadata": {},
   "source": [
    "### Number of Trees \n",
    "\n",
    "Let's do some manual exploration of the forest size parameter, remember the default value is 100 "
   ]
  },
  {
   "cell_type": "code",
   "execution_count": null,
   "metadata": {},
   "outputs": [],
   "source": [
    "rfc_model = RandomForestClassifier(n_estimators=1)\n",
    "rfc_model.fit(x_train, y_train)\n",
    "\n",
    "eval_model(rfc_model, x_test, y_test)"
   ]
  },
  {
   "cell_type": "markdown",
   "metadata": {},
   "source": [
    "- With a forest size of 1, the random forest behaves as a standalone decision tree and is unable to distinguish between the two classes\n",
    "- With AUC of 0.52 it is only marginally better than a random classifier\n",
    "\n",
    "Let's see what happens if we increase the number of trees to 10"
   ]
  },
  {
   "cell_type": "code",
   "execution_count": null,
   "metadata": {},
   "outputs": [],
   "source": [
    "rfc_model = RandomForestClassifier(n_estimators=10)\n",
    "rfc_model.fit(x_train, y_train)\n",
    "\n",
    "eval_model(rfc_model, x_test, y_test)"
   ]
  },
  {
   "cell_type": "markdown",
   "metadata": {},
   "source": [
    "- We see here that with a forest size of 10 the separation ability of the model increases with an AUC of 0.58\n",
    "- Multiple peaks on the distribution chart suggest that this is not a very stable model\n",
    "\n",
    "How about with the default value of 100 trees?"
   ]
  },
  {
   "cell_type": "code",
   "execution_count": null,
   "metadata": {},
   "outputs": [],
   "source": [
    "rfc_model = RandomForestClassifier(n_estimators=100)\n",
    "rfc_model.fit(x_train, y_train)\n",
    "\n",
    "eval_model(rfc_model, x_test, y_test)"
   ]
  },
  {
   "cell_type": "markdown",
   "metadata": {},
   "source": [
    "- With 100 estimators the AUC improved from 0.58 to 0.62\n",
    "- Class distributions appeared more defined and settled\n",
    "\n",
    "What about if we increase to 300?"
   ]
  },
  {
   "cell_type": "code",
   "execution_count": null,
   "metadata": {},
   "outputs": [],
   "source": [
    "rfc_model = RandomForestClassifier(n_estimators=300)\n",
    "rfc_model.fit(x_train, y_train)\n",
    "\n",
    "eval_model(rfc_model, x_test, y_test)"
   ]
  },
  {
   "cell_type": "markdown",
   "metadata": {},
   "source": [
    "Very similar performance to the default value of 100! \n",
    "\n",
    "Increasing the size of the forest helps classification performance up to a point\n",
    "\n",
    "However, it also increases the computational cost of training the model"
   ]
  },
  {
   "cell_type": "markdown",
   "metadata": {},
   "source": [
    "### Maximum Depth\n",
    "\n",
    "We observed earlier that our random forest model is overfitting\n",
    "\n",
    "One way of tackling overfitting in random forest is by limiting the Maximum Depth of the trees. This prevents the classifiers from growing to large picking up noise in the training data\n",
    "\n",
    "The default value of max_depth is None (it is not limited!)\n",
    "\n",
    "Let's do some experiments"
   ]
  },
  {
   "cell_type": "code",
   "execution_count": null,
   "metadata": {},
   "outputs": [],
   "source": [
    "rfc_model = RandomForestClassifier(n_estimators=100, max_depth=5)\n",
    "rfc_model.fit(x_train, y_train)\n",
    "\n",
    "eval_model(rfc_model, x_test, y_test)"
   ]
  },
  {
   "cell_type": "markdown",
   "metadata": {},
   "source": [
    "We have increased the AUC but the model is failing to identify any loan defaults\n",
    "\n",
    "Let's take a look at how it performs on the training data"
   ]
  },
  {
   "cell_type": "code",
   "execution_count": null,
   "metadata": {},
   "outputs": [],
   "source": [
    "eval_model(rfc_model, x_train, y_train)"
   ]
  },
  {
   "cell_type": "markdown",
   "metadata": {},
   "source": [
    "As with the test data, the model is not identifying any defaults.\n",
    "\n",
    "Very similar performance between training and test data tells us we are not overfitting anymore, but the model has very little predictive power\n",
    "\n",
    "Limiting the tree size to 5 has probably oversimplified the model and actually given us an underfit model!\n",
    "\n",
    "Let's try again with a larger max_depth"
   ]
  },
  {
   "cell_type": "code",
   "execution_count": null,
   "metadata": {},
   "outputs": [],
   "source": [
    "rfc_model = RandomForestClassifier(n_estimators=100, max_depth=15)\n",
    "rfc_model.fit(x_train, y_train)\n",
    "\n",
    "eval_model(rfc_model, x_test, y_test)"
   ]
  },
  {
   "cell_type": "markdown",
   "metadata": {},
   "source": [
    "A few things to note here! \n",
    "\n",
    "We have increased the AUC to ~0.65, this model has the best ability to separate classes that we have seen so far! \n",
    "\n",
    "It is also has a very good precision score of 67%, but we are still identifying very few loan defaults hence the poor recall\n",
    "\n",
    "Let's have a look at the training set performance!"
   ]
  },
  {
   "cell_type": "code",
   "execution_count": null,
   "metadata": {},
   "outputs": [],
   "source": [
    "eval_model(rfc_model, x_train, y_train)"
   ]
  },
  {
   "cell_type": "markdown",
   "metadata": {},
   "source": [
    "Our model does perform better on the training data so it could be a little overfitted. However, it certainly is much less dramatic than before! \n",
    "\n",
    "We have now limited the complexity of the trees in our forest which has reduced overfitting. "
   ]
  },
  {
   "cell_type": "markdown",
   "metadata": {},
   "source": [
    "### A Note on Hyperparameter Tuning \n",
    "\n",
    "- We have discussed the effects of n_estimators and max_depth in isolation \n",
    "- Random Forest has many more parameters that can be tuned \n",
    "- In reality, parameters are dependent on each other, i.e changing one affects the others\n",
    "- Automated methods to find the right balance exist, look at [GridSearchCV](https://scikit-learn.org/stable/modules/generated/sklearn.model_selection.GridSearchCV.html)"
   ]
  },
  {
   "cell_type": "code",
   "execution_count": null,
   "metadata": {},
   "outputs": [],
   "source": []
  }
 ],
 "metadata": {
  "kernelspec": {
   "display_name": "Python 3",
   "language": "python",
   "name": "python3"
  },
  "language_info": {
   "codemirror_mode": {
    "name": "ipython",
    "version": 3
   },
   "file_extension": ".py",
   "mimetype": "text/x-python",
   "name": "python",
   "nbconvert_exporter": "python",
   "pygments_lexer": "ipython3",
   "version": "3.8.3-final"
  }
 },
 "nbformat": 4,
 "nbformat_minor": 2
}